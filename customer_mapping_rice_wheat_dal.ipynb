{
 "cells": [
  {
   "cell_type": "code",
   "execution_count": 1,
   "metadata": {},
   "outputs": [],
   "source": [
    "import numpy as np\n",
    "import pandas as pd"
   ]
  },
  {
   "cell_type": "code",
   "execution_count": 2,
   "metadata": {},
   "outputs": [],
   "source": [
    "#input = cust_req\n",
    "#input = quantity\n",
    "#if cust_reg = wheat, dal, or rice\n",
    "#get the month of purhase by keeping a variable\n",
    "#month,crop,"
   ]
  },
  {
   "cell_type": "code",
   "execution_count": 3,
   "metadata": {},
   "outputs": [],
   "source": [
    "#using the above, get the small dataframe containing the farmers that grow rice in a particular state.\n",
    "#we need to get the average produce for every farmer "
   ]
  },
  {
   "cell_type": "code",
   "execution_count": 4,
   "metadata": {},
   "outputs": [
    {
     "data": {
      "text/html": [
       "<div>\n",
       "<style scoped>\n",
       "    .dataframe tbody tr th:only-of-type {\n",
       "        vertical-align: middle;\n",
       "    }\n",
       "\n",
       "    .dataframe tbody tr th {\n",
       "        vertical-align: top;\n",
       "    }\n",
       "\n",
       "    .dataframe thead th {\n",
       "        text-align: right;\n",
       "    }\n",
       "</style>\n",
       "<table border=\"1\" class=\"dataframe\">\n",
       "  <thead>\n",
       "    <tr style=\"text-align: right;\">\n",
       "      <th></th>\n",
       "      <th>month</th>\n",
       "      <th>state</th>\n",
       "      <th>farmer_name</th>\n",
       "      <th>crop</th>\n",
       "      <th>produce</th>\n",
       "    </tr>\n",
       "  </thead>\n",
       "  <tbody>\n",
       "    <tr>\n",
       "      <td>0</td>\n",
       "      <td>Jan</td>\n",
       "      <td>Bihar</td>\n",
       "      <td>0</td>\n",
       "      <td>rice</td>\n",
       "      <td>0.293187</td>\n",
       "    </tr>\n",
       "    <tr>\n",
       "      <td>1</td>\n",
       "      <td>Jan</td>\n",
       "      <td>Bihar</td>\n",
       "      <td>0</td>\n",
       "      <td>wheat</td>\n",
       "      <td>0.487419</td>\n",
       "    </tr>\n",
       "    <tr>\n",
       "      <td>2</td>\n",
       "      <td>Jan</td>\n",
       "      <td>Bihar</td>\n",
       "      <td>0</td>\n",
       "      <td>dal</td>\n",
       "      <td>0.498680</td>\n",
       "    </tr>\n",
       "    <tr>\n",
       "      <td>3</td>\n",
       "      <td>Jan</td>\n",
       "      <td>Maharashtra</td>\n",
       "      <td>0</td>\n",
       "      <td>rice</td>\n",
       "      <td>0.300485</td>\n",
       "    </tr>\n",
       "    <tr>\n",
       "      <td>4</td>\n",
       "      <td>Jan</td>\n",
       "      <td>Maharashtra</td>\n",
       "      <td>0</td>\n",
       "      <td>wheat</td>\n",
       "      <td>0.356750</td>\n",
       "    </tr>\n",
       "  </tbody>\n",
       "</table>\n",
       "</div>"
      ],
      "text/plain": [
       "  month        state  farmer_name   crop   produce\n",
       "0   Jan        Bihar            0   rice  0.293187\n",
       "1   Jan        Bihar            0  wheat  0.487419\n",
       "2   Jan        Bihar            0    dal  0.498680\n",
       "3   Jan  Maharashtra            0   rice  0.300485\n",
       "4   Jan  Maharashtra            0  wheat  0.356750"
      ]
     },
     "execution_count": 4,
     "metadata": {},
     "output_type": "execute_result"
    }
   ],
   "source": [
    "farmer = pd.read_csv(r'C:\\Users\\Rishabh\\Desktop\\farmer.csv')\n",
    "farmer.head()"
   ]
  },
  {
   "cell_type": "code",
   "execution_count": 5,
   "metadata": {},
   "outputs": [],
   "source": [
    "def sigmoid(x):\n",
    "    return 1 / (1 + np.exp(-x))"
   ]
  },
  {
   "cell_type": "code",
   "execution_count": 6,
   "metadata": {},
   "outputs": [],
   "source": [
    "cust_req = 'wheat'\n",
    "cust_state = 'bihar'\n",
    "small_df = farmer[farmer.crop == cust_req]"
   ]
  },
  {
   "cell_type": "code",
   "execution_count": 74,
   "metadata": {},
   "outputs": [],
   "source": [
    "cust_req = 'wheat'\n",
    "cust_state = 'bihar'"
   ]
  },
  {
   "cell_type": "code",
   "execution_count": 7,
   "metadata": {},
   "outputs": [
    {
     "data": {
      "text/html": [
       "<div>\n",
       "<style scoped>\n",
       "    .dataframe tbody tr th:only-of-type {\n",
       "        vertical-align: middle;\n",
       "    }\n",
       "\n",
       "    .dataframe tbody tr th {\n",
       "        vertical-align: top;\n",
       "    }\n",
       "\n",
       "    .dataframe thead th {\n",
       "        text-align: right;\n",
       "    }\n",
       "</style>\n",
       "<table border=\"1\" class=\"dataframe\">\n",
       "  <thead>\n",
       "    <tr style=\"text-align: right;\">\n",
       "      <th></th>\n",
       "      <th>month</th>\n",
       "      <th>state</th>\n",
       "      <th>farmer_name</th>\n",
       "      <th>crop</th>\n",
       "      <th>produce</th>\n",
       "    </tr>\n",
       "  </thead>\n",
       "  <tbody>\n",
       "    <tr>\n",
       "      <td>1</td>\n",
       "      <td>Jan</td>\n",
       "      <td>Bihar</td>\n",
       "      <td>0</td>\n",
       "      <td>wheat</td>\n",
       "      <td>0.487419</td>\n",
       "    </tr>\n",
       "    <tr>\n",
       "      <td>4</td>\n",
       "      <td>Jan</td>\n",
       "      <td>Maharashtra</td>\n",
       "      <td>0</td>\n",
       "      <td>wheat</td>\n",
       "      <td>0.356750</td>\n",
       "    </tr>\n",
       "    <tr>\n",
       "      <td>7</td>\n",
       "      <td>Jan</td>\n",
       "      <td>Tamil Nadu</td>\n",
       "      <td>0</td>\n",
       "      <td>wheat</td>\n",
       "      <td>0.372304</td>\n",
       "    </tr>\n",
       "    <tr>\n",
       "      <td>10</td>\n",
       "      <td>Jan</td>\n",
       "      <td>Rajasthan</td>\n",
       "      <td>0</td>\n",
       "      <td>wheat</td>\n",
       "      <td>0.696305</td>\n",
       "    </tr>\n",
       "    <tr>\n",
       "      <td>13</td>\n",
       "      <td>Jan</td>\n",
       "      <td>Meghalaya</td>\n",
       "      <td>0</td>\n",
       "      <td>wheat</td>\n",
       "      <td>0.683087</td>\n",
       "    </tr>\n",
       "  </tbody>\n",
       "</table>\n",
       "</div>"
      ],
      "text/plain": [
       "   month        state  farmer_name   crop   produce\n",
       "1    Jan        Bihar            0  wheat  0.487419\n",
       "4    Jan  Maharashtra            0  wheat  0.356750\n",
       "7    Jan   Tamil Nadu            0  wheat  0.372304\n",
       "10   Jan    Rajasthan            0  wheat  0.696305\n",
       "13   Jan    Meghalaya            0  wheat  0.683087"
      ]
     },
     "execution_count": 7,
     "metadata": {},
     "output_type": "execute_result"
    }
   ],
   "source": [
    "small_df.head()"
   ]
  },
  {
   "cell_type": "code",
   "execution_count": 8,
   "metadata": {},
   "outputs": [],
   "source": [
    "farmer_df = pd.read_csv(r'C:\\Users\\Rishabh\\Desktop\\farmer_data.csv')"
   ]
  },
  {
   "cell_type": "code",
   "execution_count": 9,
   "metadata": {},
   "outputs": [
    {
     "data": {
      "text/html": [
       "<div>\n",
       "<style scoped>\n",
       "    .dataframe tbody tr th:only-of-type {\n",
       "        vertical-align: middle;\n",
       "    }\n",
       "\n",
       "    .dataframe tbody tr th {\n",
       "        vertical-align: top;\n",
       "    }\n",
       "\n",
       "    .dataframe thead th {\n",
       "        text-align: right;\n",
       "    }\n",
       "</style>\n",
       "<table border=\"1\" class=\"dataframe\">\n",
       "  <thead>\n",
       "    <tr style=\"text-align: right;\">\n",
       "      <th></th>\n",
       "      <th>state</th>\n",
       "      <th>farmer_name</th>\n",
       "      <th>land</th>\n",
       "      <th>morgage</th>\n",
       "      <th>previous_sale</th>\n",
       "      <th>working_strength</th>\n",
       "      <th>alternate_source</th>\n",
       "    </tr>\n",
       "  </thead>\n",
       "  <tbody>\n",
       "    <tr>\n",
       "      <td>0</td>\n",
       "      <td>bihar</td>\n",
       "      <td>0</td>\n",
       "      <td>-0.025540</td>\n",
       "      <td>0</td>\n",
       "      <td>0</td>\n",
       "      <td>2</td>\n",
       "      <td>0</td>\n",
       "    </tr>\n",
       "    <tr>\n",
       "      <td>1</td>\n",
       "      <td>bihar</td>\n",
       "      <td>1</td>\n",
       "      <td>-0.069528</td>\n",
       "      <td>1</td>\n",
       "      <td>1</td>\n",
       "      <td>2</td>\n",
       "      <td>1</td>\n",
       "    </tr>\n",
       "    <tr>\n",
       "      <td>2</td>\n",
       "      <td>bihar</td>\n",
       "      <td>2</td>\n",
       "      <td>-0.025038</td>\n",
       "      <td>0</td>\n",
       "      <td>1</td>\n",
       "      <td>3</td>\n",
       "      <td>0</td>\n",
       "    </tr>\n",
       "    <tr>\n",
       "      <td>3</td>\n",
       "      <td>bihar</td>\n",
       "      <td>3</td>\n",
       "      <td>-0.415389</td>\n",
       "      <td>0</td>\n",
       "      <td>0</td>\n",
       "      <td>1</td>\n",
       "      <td>0</td>\n",
       "    </tr>\n",
       "    <tr>\n",
       "      <td>4</td>\n",
       "      <td>bihar</td>\n",
       "      <td>4</td>\n",
       "      <td>0.228109</td>\n",
       "      <td>1</td>\n",
       "      <td>0</td>\n",
       "      <td>2</td>\n",
       "      <td>0</td>\n",
       "    </tr>\n",
       "  </tbody>\n",
       "</table>\n",
       "</div>"
      ],
      "text/plain": [
       "   state  farmer_name      land  morgage  previous_sale  working_strength  \\\n",
       "0  bihar            0 -0.025540        0              0                 2   \n",
       "1  bihar            1 -0.069528        1              1                 2   \n",
       "2  bihar            2 -0.025038        0              1                 3   \n",
       "3  bihar            3 -0.415389        0              0                 1   \n",
       "4  bihar            4  0.228109        1              0                 2   \n",
       "\n",
       "   alternate_source  \n",
       "0                 0  \n",
       "1                 1  \n",
       "2                 0  \n",
       "3                 0  \n",
       "4                 0  "
      ]
     },
     "execution_count": 9,
     "metadata": {},
     "output_type": "execute_result"
    }
   ],
   "source": [
    "farmer_df.head()"
   ]
  },
  {
   "cell_type": "code",
   "execution_count": 10,
   "metadata": {},
   "outputs": [
    {
     "data": {
      "text/plain": [
       "[0, 1, 2, 3, 4]"
      ]
     },
     "execution_count": 10,
     "metadata": {},
     "output_type": "execute_result"
    }
   ],
   "source": [
    "produce_farmer_wise = []\n",
    "#list(small_df.state.unique())\n",
    "list(small_df.farmer_name.unique())"
   ]
  },
  {
   "cell_type": "code",
   "execution_count": 11,
   "metadata": {},
   "outputs": [
    {
     "data": {
      "text/plain": [
       "0.5007801758773621"
      ]
     },
     "execution_count": 11,
     "metadata": {},
     "output_type": "execute_result"
    }
   ],
   "source": [
    "float(pd.DataFrame(small_df.produce[small_df.state == 'Bihar'][small_df.farmer_name == 0]).mean())"
   ]
  },
  {
   "cell_type": "code",
   "execution_count": 12,
   "metadata": {},
   "outputs": [],
   "source": [
    "\n",
    "for st in list(small_df.state.unique()):\n",
    "    for f_name in list(small_df.farmer_name.unique()):\n",
    "        temp = []\n",
    "        temp.append(st)\n",
    "        temp.append(f_name)\n",
    "        temp.append(float(pd.DataFrame(small_df.produce[small_df.state == st][small_df.farmer_name == f_name]).mean()))\n",
    "        produce_farmer_wise.append(temp)"
   ]
  },
  {
   "cell_type": "code",
   "execution_count": 13,
   "metadata": {},
   "outputs": [],
   "source": [
    "to_df = pd.DataFrame(produce_farmer_wise , columns = {'state' , 'farmer_name' , 'avg_prod'})"
   ]
  },
  {
   "cell_type": "code",
   "execution_count": 14,
   "metadata": {},
   "outputs": [],
   "source": [
    "#produce_farmer_wise\n",
    "to_df.columns = ['state' , 'farmer_name' , 'avg_prod']"
   ]
  },
  {
   "cell_type": "code",
   "execution_count": 15,
   "metadata": {},
   "outputs": [
    {
     "data": {
      "text/html": [
       "<div>\n",
       "<style scoped>\n",
       "    .dataframe tbody tr th:only-of-type {\n",
       "        vertical-align: middle;\n",
       "    }\n",
       "\n",
       "    .dataframe tbody tr th {\n",
       "        vertical-align: top;\n",
       "    }\n",
       "\n",
       "    .dataframe thead th {\n",
       "        text-align: right;\n",
       "    }\n",
       "</style>\n",
       "<table border=\"1\" class=\"dataframe\">\n",
       "  <thead>\n",
       "    <tr style=\"text-align: right;\">\n",
       "      <th></th>\n",
       "      <th>state</th>\n",
       "      <th>farmer_name</th>\n",
       "      <th>avg_prod</th>\n",
       "    </tr>\n",
       "  </thead>\n",
       "  <tbody>\n",
       "    <tr>\n",
       "      <td>0</td>\n",
       "      <td>Bihar</td>\n",
       "      <td>0</td>\n",
       "      <td>0.500780</td>\n",
       "    </tr>\n",
       "    <tr>\n",
       "      <td>1</td>\n",
       "      <td>Bihar</td>\n",
       "      <td>1</td>\n",
       "      <td>0.394242</td>\n",
       "    </tr>\n",
       "    <tr>\n",
       "      <td>2</td>\n",
       "      <td>Bihar</td>\n",
       "      <td>2</td>\n",
       "      <td>0.461322</td>\n",
       "    </tr>\n",
       "    <tr>\n",
       "      <td>3</td>\n",
       "      <td>Bihar</td>\n",
       "      <td>3</td>\n",
       "      <td>0.453728</td>\n",
       "    </tr>\n",
       "    <tr>\n",
       "      <td>4</td>\n",
       "      <td>Bihar</td>\n",
       "      <td>4</td>\n",
       "      <td>0.589215</td>\n",
       "    </tr>\n",
       "  </tbody>\n",
       "</table>\n",
       "</div>"
      ],
      "text/plain": [
       "   state  farmer_name  avg_prod\n",
       "0  Bihar            0  0.500780\n",
       "1  Bihar            1  0.394242\n",
       "2  Bihar            2  0.461322\n",
       "3  Bihar            3  0.453728\n",
       "4  Bihar            4  0.589215"
      ]
     },
     "execution_count": 15,
     "metadata": {},
     "output_type": "execute_result"
    }
   ],
   "source": [
    "to_df.head()"
   ]
  },
  {
   "cell_type": "code",
   "execution_count": 16,
   "metadata": {},
   "outputs": [],
   "source": [
    "def d_score(produce , land , morgage , prev , working , alter):\n",
    "    return sigmoid(-0.25 * produce - 0.35 * land + 0.85 * morgage + 0.33 * working - 0.22 * alter + prev * -0.1)"
   ]
  },
  {
   "cell_type": "code",
   "execution_count": 17,
   "metadata": {},
   "outputs": [],
   "source": [
    "def distress(st , f_nam , prod):\n",
    "    f = farmer_df[farmer_df.state == st.lower()][farmer_df.farmer_name == f_nam]\n",
    "    return d_score(prod , f[\"land\"] , f[\"morgage\"] , f[\"previous_sale\"] , f[\"working_strength\"] , f[\"alternate_source\"])"
   ]
  },
  {
   "cell_type": "code",
   "execution_count": 56,
   "metadata": {},
   "outputs": [
    {
     "name": "stderr",
     "output_type": "stream",
     "text": [
      "C:\\Users\\Rishabh\\Anaconda3\\lib\\site-packages\\ipykernel_launcher.py:2: UserWarning: Boolean Series key will be reindexed to match DataFrame index.\n",
      "  \n"
     ]
    }
   ],
   "source": [
    "farmer_df[\"distress\"] = np.repeat(0 , 25)\n",
    "for i in range(to_df.shape[0]):\n",
    "    f = to_df.iloc[i]\n",
    "    farmer_df[\"distress\"].iloc[i] = float(distress(f[\"state\"] , f[\"farmer_name\"] , f[\"avg_prod\"]))"
   ]
  },
  {
   "cell_type": "code",
   "execution_count": 57,
   "metadata": {},
   "outputs": [
    {
     "data": {
      "text/html": [
       "<div>\n",
       "<style scoped>\n",
       "    .dataframe tbody tr th:only-of-type {\n",
       "        vertical-align: middle;\n",
       "    }\n",
       "\n",
       "    .dataframe tbody tr th {\n",
       "        vertical-align: top;\n",
       "    }\n",
       "\n",
       "    .dataframe thead th {\n",
       "        text-align: right;\n",
       "    }\n",
       "</style>\n",
       "<table border=\"1\" class=\"dataframe\">\n",
       "  <thead>\n",
       "    <tr style=\"text-align: right;\">\n",
       "      <th></th>\n",
       "      <th>state</th>\n",
       "      <th>farmer_name</th>\n",
       "      <th>land</th>\n",
       "      <th>morgage</th>\n",
       "      <th>previous_sale</th>\n",
       "      <th>working_strength</th>\n",
       "      <th>alternate_source</th>\n",
       "      <th>distress</th>\n",
       "    </tr>\n",
       "  </thead>\n",
       "  <tbody>\n",
       "    <tr>\n",
       "      <td>0</td>\n",
       "      <td>bihar</td>\n",
       "      <td>0</td>\n",
       "      <td>-0.025540</td>\n",
       "      <td>0</td>\n",
       "      <td>0</td>\n",
       "      <td>2</td>\n",
       "      <td>0</td>\n",
       "      <td>0.632683</td>\n",
       "    </tr>\n",
       "    <tr>\n",
       "      <td>1</td>\n",
       "      <td>bihar</td>\n",
       "      <td>1</td>\n",
       "      <td>-0.069528</td>\n",
       "      <td>1</td>\n",
       "      <td>1</td>\n",
       "      <td>2</td>\n",
       "      <td>1</td>\n",
       "      <td>0.753204</td>\n",
       "    </tr>\n",
       "    <tr>\n",
       "      <td>2</td>\n",
       "      <td>bihar</td>\n",
       "      <td>2</td>\n",
       "      <td>-0.025038</td>\n",
       "      <td>0</td>\n",
       "      <td>1</td>\n",
       "      <td>3</td>\n",
       "      <td>0</td>\n",
       "      <td>0.686419</td>\n",
       "    </tr>\n",
       "    <tr>\n",
       "      <td>3</td>\n",
       "      <td>bihar</td>\n",
       "      <td>3</td>\n",
       "      <td>-0.415389</td>\n",
       "      <td>0</td>\n",
       "      <td>0</td>\n",
       "      <td>1</td>\n",
       "      <td>0</td>\n",
       "      <td>0.589513</td>\n",
       "    </tr>\n",
       "    <tr>\n",
       "      <td>4</td>\n",
       "      <td>bihar</td>\n",
       "      <td>4</td>\n",
       "      <td>0.228109</td>\n",
       "      <td>1</td>\n",
       "      <td>0</td>\n",
       "      <td>2</td>\n",
       "      <td>0</td>\n",
       "      <td>0.782936</td>\n",
       "    </tr>\n",
       "  </tbody>\n",
       "</table>\n",
       "</div>"
      ],
      "text/plain": [
       "   state  farmer_name      land  morgage  previous_sale  working_strength  \\\n",
       "0  bihar            0 -0.025540        0              0                 2   \n",
       "1  bihar            1 -0.069528        1              1                 2   \n",
       "2  bihar            2 -0.025038        0              1                 3   \n",
       "3  bihar            3 -0.415389        0              0                 1   \n",
       "4  bihar            4  0.228109        1              0                 2   \n",
       "\n",
       "   alternate_source  distress  \n",
       "0                 0  0.632683  \n",
       "1                 1  0.753204  \n",
       "2                 0  0.686419  \n",
       "3                 0  0.589513  \n",
       "4                 0  0.782936  "
      ]
     },
     "execution_count": 57,
     "metadata": {},
     "output_type": "execute_result"
    }
   ],
   "source": [
    "farmer_df.head()"
   ]
  },
  {
   "cell_type": "code",
   "execution_count": 58,
   "metadata": {},
   "outputs": [],
   "source": [
    "states = [\"bihar\" , \"maharashtra\" , \"meghalaya\" , \"rajasthan\" , \"tamil_nadu\"]"
   ]
  },
  {
   "cell_type": "code",
   "execution_count": 85,
   "metadata": {},
   "outputs": [],
   "source": [
    "bihar = {      \"bihar\":{\"roadways\":1.0000 , \"waterways\":1.0000 , \"train\":1.0000} ,\n",
    "         \"maharashtra\":{\"roadways\":0.7500 , \"waterways\":0.0900 , \"train\":0.8200} ,\n",
    "           \"meghalaya\":{\"roadways\":0.5500 , \"waterways\":0.0003 , \"train\":0.4500} , \n",
    "           \"rajasthan\":{\"roadways\":0.8100 , \"waterways\":0.0002 , \"train\":0.8800} , \n",
    "          \"tamil_nadu\":{\"roadways\":0.7100 , \"waterways\":0.1900 , \"train\":0.7700} }\n",
    "maharashtra = {\"bihar\":{\"roadways\":0.7500 , \"waterways\":0.0900 , \"train\":0.8200} ,\n",
    "         \"maharashtra\":{\"roadways\":1.0000 , \"waterways\":1.0000 , \"train\":1.0000} ,\n",
    "           \"meghalaya\":{\"roadways\":0.4500 , \"waterways\":0.0002 , \"train\":0.5500} , \n",
    "           \"rajasthan\":{\"roadways\":0.9200 , \"waterways\":0.0300 , \"train\":0.9800} , \n",
    "          \"tamil_nadu\":{\"roadways\":0.7500 , \"waterways\":0.6900 , \"train\":0.8300} }\n",
    "meghalaya =   {\"bihar\":{\"roadways\":0.5500 , \"waterways\":0.0003 , \"train\":0.3500} , \n",
    "         \"maharashtra\":{\"roadways\":0.4500 , \"waterways\":0.0002 , \"train\":0.5500} , \n",
    "           \"meghalaya\":{\"roadways\":1.0000 , \"waterways\":1.0000 , \"train\":1.0000} ,\n",
    "           \"rajasthan\":{\"roadways\":0.7100 , \"waterways\":0.0001 , \"train\":0.3500} , \n",
    "          \"tamil_nadu\":{\"roadways\":0.3000 , \"waterways\":0.0040 , \"train\":0.4500} }\n",
    "rajasthan =   {\"bihar\":{\"roadways\":0.8100 , \"waterways\":0.0002 , \"train\":0.8800} ,\n",
    "         \"maharashtra\":{\"roadways\":0.9200 , \"waterways\":0.0300 , \"train\":0.9800} ,\n",
    "           \"meghalaya\":{\"roadways\":0.7100 , \"waterways\":0.0001 , \"train\":0.3500} ,\n",
    "           \"rajasthan\":{\"roadways\":1.0000 , \"waterways\":1.0000 , \"train\":1.0000} ,\n",
    "          \"tamil_nadu\":{\"roadways\":0.6500 , \"waterways\":0.4500 , \"train\":0.7500} }\n",
    "tamil_nadu =  {\"bihar\":{\"roadways\":0.7100 , \"waterways\":0.1900 , \"train\":0.7700} , \n",
    "         \"maharashtra\":{\"roadways\":0.7500 , \"waterways\":0.6900 , \"train\":0.8300} , \n",
    "           \"meghalaya\":{\"roadways\":0.3000 , \"waterways\":0.0040 , \"train\":0.4500} , \n",
    "           \"rajasthan\":{\"roadways\":0.6500 , \"waterways\":0.4500 , \"train\":0.7500} ,\n",
    "          \"tamil_nadu\":{\"roadways\":1.0000 , \"waterways\":1.0000 , \"train\":1.0000} }"
   ]
  },
  {
   "cell_type": "code",
   "execution_count": 86,
   "metadata": {},
   "outputs": [],
   "source": [
    "tot = dict(zip(states , [bihar , maharashtra , meghalaya , rajasthan , tamil_nadu]))\n",
    "transport = [\"roadways\" , \"waterways\" , \"train\"]"
   ]
  },
  {
   "cell_type": "code",
   "execution_count": 87,
   "metadata": {},
   "outputs": [
    {
     "data": {
      "text/plain": [
       "0.0003"
      ]
     },
     "execution_count": 87,
     "metadata": {},
     "output_type": "execute_result"
    }
   ],
   "source": [
    "tot[\"bihar\"][\"meghalaya\"][\"waterways\"]\n"
   ]
  },
  {
   "cell_type": "code",
   "execution_count": 88,
   "metadata": {},
   "outputs": [],
   "source": [
    "sold_df = pd.read_csv(r'C:\\Users\\Rishabh\\Desktop\\sold.csv')\n",
    "\n",
    "def sold(st , f_name):\n",
    "    f_df = sold_df[sold_df.state == st][sold_df.farmer_name == f_name]\n",
    "    if(f_df.shape[0] == 0):\n",
    "        return 0\n",
    "    else:\n",
    "        return sum(f_df.sold.values)"
   ]
  },
  {
   "cell_type": "code",
   "execution_count": 89,
   "metadata": {},
   "outputs": [
    {
     "name": "stderr",
     "output_type": "stream",
     "text": [
      "C:\\Users\\Rishabh\\Anaconda3\\lib\\site-packages\\ipykernel_launcher.py:4: UserWarning: Boolean Series key will be reindexed to match DataFrame index.\n",
      "  after removing the cwd from sys.path.\n"
     ]
    }
   ],
   "source": [
    "best_farmer_name = 0\n",
    "best_farmer_state = \"\" \n",
    "best_score = 0\n",
    "for i in range(farmer_df.shape[0]):\n",
    "    f = farmer_df.iloc[i]\n",
    "    f_state = f[\"state\"]\n",
    "    f_state = f_state.replace(' ' , '_')\n",
    "    trans_road = tot[cust_state][f_state][\"roadways\"]\n",
    "    trans_water = tot[cust_state][f_state][\"waterways\"]\n",
    "    trans_rail = tot[cust_state][f_state][\"train\"]\n",
    "    if(trans_road > trans_water and trans_road > trans_rail and sigmoid(trans_road*f[\"distress\"] + sold(f[\"state\"] , f[\"farmer_name\"])) > best_score):\n",
    "        best_farmer_name = f[\"farmer_name\"]\n",
    "        best_farmer_state = f[\"state\"]\n",
    "        best_score = sigmoid(trans_road*f[\"distress\"] + sold(f[\"state\"] , f[\"farmer_name\"]))\n",
    "    elif(trans_water > trans_road and trans_water > trans_rail and sigmoid(trans_water*f[\"distress\"] + sold(f[\"state\"] , f[\"farmer_name\"])) > best_score):\n",
    "        best_farmer_name = f[\"farmer_name\"]\n",
    "        best_farmer_state = f[\"state\"]\n",
    "        best_score = sigmoid(trans_water*f[\"distress\"] + sold(f[\"state\"] , f[\"farmer_name\"]))\n",
    "    elif(trans_rail > trans_water and trans_rail > trans_road and sigmoid(trans_rail * f[\"distress\"] + sold(f[\"state\"] , f[\"farmer_name\"]))> best_score):\n",
    "        best_farmer_name = f[\"farmer_name\"]\n",
    "        best_farmer_state = f[\"state\"]\n",
    "        best_score = sigmoid(trans_rail * f[\"distress\"] + sold(f[\"state\"] , f[\"farmer_name\"]))\n",
    "    "
   ]
  },
  {
   "cell_type": "code",
   "execution_count": 90,
   "metadata": {},
   "outputs": [
    {
     "data": {
      "text/plain": [
       "'rajasthan'"
      ]
     },
     "execution_count": 90,
     "metadata": {},
     "output_type": "execute_result"
    }
   ],
   "source": [
    "best_farmer_state"
   ]
  },
  {
   "cell_type": "code",
   "execution_count": 91,
   "metadata": {},
   "outputs": [
    {
     "data": {
      "text/plain": [
       "2"
      ]
     },
     "execution_count": 91,
     "metadata": {},
     "output_type": "execute_result"
    }
   ],
   "source": [
    "best_farmer_name"
   ]
  },
  {
   "cell_type": "code",
   "execution_count": null,
   "metadata": {},
   "outputs": [],
   "source": []
  }
 ],
 "metadata": {
  "kernelspec": {
   "display_name": "Python 3",
   "language": "python",
   "name": "python3"
  },
  "language_info": {
   "codemirror_mode": {
    "name": "ipython",
    "version": 3
   },
   "file_extension": ".py",
   "mimetype": "text/x-python",
   "name": "python",
   "nbconvert_exporter": "python",
   "pygments_lexer": "ipython3",
   "version": "3.7.1"
  }
 },
 "nbformat": 4,
 "nbformat_minor": 2
}
